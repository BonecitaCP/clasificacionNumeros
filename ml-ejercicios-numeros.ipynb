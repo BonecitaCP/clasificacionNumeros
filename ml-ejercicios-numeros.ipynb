{
 "cells": [
  {
   "cell_type": "code",
   "execution_count": null,
   "id": "b3b73d79",
   "metadata": {
    "tags": []
   },
   "outputs": [],
   "source": [
    "\"\"\"\n",
    "-----------\n",
    "GRUPO 1\n",
    "-----------\n",
    "Integrantes:\n",
    "    .- Sebastián Vaca Alarcón\n",
    "    .- Edwin Chacón cajamarca\n",
    "    .- Ivonne Campoverde Pilco\n",
    "    .- Jimmy Tarira Pérez\n",
    "    .- Sandra Montúfar Rivera\n",
    "\"\"\"\n",
    "import pandas as pd"
   ]
  },
  {
   "cell_type": "code",
   "execution_count": null,
   "id": "833a9ce7",
   "metadata": {
    "tags": []
   },
   "outputs": [],
   "source": [
    "train_df = pd.read_csv('./data/mnist_train.csv')"
   ]
  },
  {
   "cell_type": "code",
   "execution_count": null,
   "id": "2b1a1452",
   "metadata": {
    "tags": []
   },
   "outputs": [],
   "source": [
    "test_df = pd.read_csv('./data/mnist_test.csv')"
   ]
  },
  {
   "cell_type": "code",
   "execution_count": null,
   "id": "1e8c0d82",
   "metadata": {
    "tags": []
   },
   "outputs": [],
   "source": [
    "train_df"
   ]
  },
  {
   "cell_type": "code",
   "execution_count": null,
   "id": "c5e8ba91",
   "metadata": {
    "tags": []
   },
   "outputs": [],
   "source": [
    "train_df.dtypes"
   ]
  },
  {
   "cell_type": "code",
   "execution_count": null,
   "id": "68a226cc",
   "metadata": {
    "tags": []
   },
   "outputs": [],
   "source": [
    "train_df.isna()"
   ]
  },
  {
   "cell_type": "code",
   "execution_count": null,
   "id": "42362cc5",
   "metadata": {
    "tags": []
   },
   "outputs": [],
   "source": [
    "train_df['cuanto_mancha'] = train_df.iloc[:, 1:].sum(axis=1)"
   ]
  },
  {
   "cell_type": "code",
   "execution_count": null,
   "id": "eca3a070",
   "metadata": {
    "tags": []
   },
   "outputs": [],
   "source": [
    "train_df"
   ]
  },
  {
   "cell_type": "code",
   "execution_count": null,
   "id": "569e27f9",
   "metadata": {
    "tags": []
   },
   "outputs": [],
   "source": [
    "train_df['sum_left'] = train_df.iloc[:, 1:392].sum(axis=1)"
   ]
  },
  {
   "cell_type": "code",
   "execution_count": null,
   "id": "e689b3b1",
   "metadata": {
    "tags": []
   },
   "outputs": [],
   "source": [
    "train_df['sum_right'] = train_df.iloc[:, 393:785].sum(axis=1)"
   ]
  },
  {
   "cell_type": "code",
   "execution_count": null,
   "id": "f8e4788b",
   "metadata": {
    "tags": []
   },
   "outputs": [],
   "source": [
    "train_df"
   ]
  },
  {
   "cell_type": "code",
   "execution_count": null,
   "id": "d9741dc9",
   "metadata": {
    "tags": []
   },
   "outputs": [],
   "source": [
    "train_df['simetria'] = train_df['sum_left'] - train_df['sum_right']"
   ]
  },
  {
   "cell_type": "code",
   "execution_count": null,
   "id": "d1b8ed38",
   "metadata": {
    "tags": []
   },
   "outputs": [],
   "source": [
    "train_df"
   ]
  },
  {
   "cell_type": "code",
   "execution_count": null,
   "id": "e8afc1c1",
   "metadata": {
    "tags": []
   },
   "outputs": [],
   "source": [
    "train_df['simetria'] = train_df['sum_left'] - train_df['sum_right']"
   ]
  },
  {
   "cell_type": "code",
   "execution_count": null,
   "id": "3020c13a",
   "metadata": {
    "tags": []
   },
   "outputs": [],
   "source": [
    "train_df"
   ]
  },
  {
   "cell_type": "code",
   "execution_count": null,
   "id": "cb098000",
   "metadata": {},
   "outputs": [],
   "source": [
    "train_df.plot.scatter(x=\"cuanto_mancha\", y=\"simetria\")"
   ]
  },
  {
   "cell_type": "code",
   "execution_count": null,
   "id": "fe941774",
   "metadata": {},
   "outputs": [],
   "source": [
    "y = train_df['label']"
   ]
  },
  {
   "cell_type": "code",
   "execution_count": null,
   "id": "cbea2dc7",
   "metadata": {},
   "outputs": [],
   "source": [
    "X = train_df[['cuanto_mancha', 'simetria']]"
   ]
  },
  {
   "cell_type": "code",
   "execution_count": null,
   "id": "a5456adb",
   "metadata": {},
   "outputs": [],
   "source": [
    "X"
   ]
  },
  {
   "cell_type": "code",
   "execution_count": null,
   "id": "12651ce6",
   "metadata": {},
   "outputs": [],
   "source": [
    "from sklearn.model_selection import train_test_split"
   ]
  },
  {
   "cell_type": "code",
   "execution_count": null,
   "id": "7f04a17e",
   "metadata": {},
   "outputs": [],
   "source": [
    "X_train, X_test, y_train, y_test = train_test_split(X, y, test_size = 0.33, random_state = 42)"
   ]
  },
  {
   "cell_type": "code",
   "execution_count": null,
   "id": "da85cd48",
   "metadata": {},
   "outputs": [],
   "source": [
    "X_train.head(10)"
   ]
  },
  {
   "cell_type": "code",
   "execution_count": null,
   "id": "d0b5422f",
   "metadata": {},
   "outputs": [],
   "source": [
    "from sklearn.linear_model import LinearRegression"
   ]
  },
  {
   "cell_type": "code",
   "execution_count": null,
   "id": "bda9e09b",
   "metadata": {},
   "outputs": [],
   "source": [
    "%%time\n",
    "reg = LinearRegression()\n",
    "y_train = reg.fit(X_train, y_train)"
   ]
  },
  {
   "cell_type": "code",
   "execution_count": null,
   "id": "849b5653",
   "metadata": {},
   "outputs": [],
   "source": [
    "reg.predict([[29526, 3984]])"
   ]
  },
  {
   "cell_type": "code",
   "execution_count": null,
   "id": "3bc322ee",
   "metadata": {},
   "outputs": [],
   "source": [
    "y_predict = reg.predict(X_test)"
   ]
  },
  {
   "cell_type": "code",
   "execution_count": null,
   "id": "fd7e87ce",
   "metadata": {},
   "outputs": [],
   "source": [
    "from sklearn.metrics import mean_squared_error, r2_score\n",
    "\n",
    "mse = mean_squared_error(y_test, y_predict)\n",
    "r2s = r2_score(y_test, y_predict)"
   ]
  },
  {
   "cell_type": "code",
   "execution_count": null,
   "id": "f92ed187",
   "metadata": {},
   "outputs": [],
   "source": [
    "print(f\"Error cuadrático medio: {mse}\")\n",
    "print(f\"R-squared: {r2s}\")"
   ]
  },
  {
   "cell_type": "code",
   "execution_count": null,
   "id": "03f9e437",
   "metadata": {},
   "outputs": [],
   "source": [
    "matriz = pd.DataFrame()"
   ]
  },
  {
   "cell_type": "code",
   "execution_count": null,
   "id": "84a36ca1",
   "metadata": {},
   "outputs": [],
   "source": [
    "matriz['observaciones'] = y_test"
   ]
  },
  {
   "cell_type": "code",
   "execution_count": null,
   "id": "e999fd92",
   "metadata": {},
   "outputs": [],
   "source": [
    "matriz['predicciones'] = y_predict.astype('int64')"
   ]
  },
  {
   "cell_type": "code",
   "execution_count": null,
   "id": "fa768b48",
   "metadata": {},
   "outputs": [],
   "source": [
    "matriz.dtypes"
   ]
  },
  {
   "cell_type": "code",
   "execution_count": null,
   "id": "82bb78d2",
   "metadata": {},
   "outputs": [],
   "source": [
    "import sklearn.metrics as sklm\n",
    "mc = sklm.confusion_matrix(matriz['observaciones'], matriz['predicciones'])\n",
    "mc"
   ]
  },
  {
   "cell_type": "code",
   "execution_count": null,
   "id": "27c6b45f",
   "metadata": {},
   "outputs": [],
   "source": [
    "draw_mc = sklm.ConfusionMatrixDisplay(mc)\n",
    "draw_mc.plot()"
   ]
  },
  {
   "cell_type": "code",
   "execution_count": null,
   "id": "49139c6a",
   "metadata": {},
   "outputs": [],
   "source": [
    "sc = sklm.accuracy_score(matriz['observaciones'], matriz['predicciones'])\n",
    "sc"
   ]
  },
  {
   "cell_type": "code",
   "execution_count": null,
   "id": "d5835fe7",
   "metadata": {},
   "outputs": [],
   "source": []
  },
  {
   "cell_type": "code",
   "execution_count": null,
   "id": "b335bb0a",
   "metadata": {},
   "outputs": [],
   "source": []
  }
 ],
 "metadata": {
  "kernelspec": {
   "display_name": "Python 3 (ipykernel)",
   "language": "python",
   "name": "python3"
  },
  "language_info": {
   "codemirror_mode": {
    "name": "ipython",
    "version": 3
   },
   "file_extension": ".py",
   "mimetype": "text/x-python",
   "name": "python",
   "nbconvert_exporter": "python",
   "pygments_lexer": "ipython3",
   "version": "3.11.5"
  }
 },
 "nbformat": 4,
 "nbformat_minor": 5
}
